{
 "cells": [
  {
   "cell_type": "markdown",
   "metadata": {},
   "source": [
    "# Exercise 6.B.5 in S. Axler\n",
    "On $\\mathcal{P}_2(\\mathbb{R})$ consider the inner product given by $$\\langle p,q\\rangle = \\int_0^1 p(x)q(x)\\,dx.$$ Apply Gram-Schmidt Procedure to the basis $1$, $x$, $x^2$ to produce an orthonormal basis of $\\mathcal{P}_2(\\mathbb{R})$."
   ]
  },
  {
   "cell_type": "markdown",
   "metadata": {},
   "source": [
    "## Solution:\n",
    "Below is a possible implementation of the Gram-Schmidt Procedure as stated in 6.31 in the book.  We use Python's package sympy to manipulate/integrate polynomials symbolically."
   ]
  },
  {
   "cell_type": "code",
   "execution_count": 1,
   "metadata": {},
   "outputs": [],
   "source": [
    "from sympy import *\n",
    "x = symbols('x')\n",
    "\n",
    "# inner product between two vectors\n",
    "def inner(f,g):\n",
    "    return integrate(f*g,(x,0,1))\n",
    "\n",
    "# norm of the vector\n",
    "def norm(f):\n",
    "    return sqrt(inner(f,f))\n",
    "\n",
    "# classical Gram-Schmidt orthogonalization process\n",
    "def GS(v_list):\n",
    "    e_list = []\n",
    "    # go over all vectors in the list\n",
    "    for v in v_list:\n",
    "        # first, orthogonalize v to previous e's\n",
    "        for e in e_list:\n",
    "            v = v - inner(v,e)*e\n",
    "        # then, renormalize the result and add it to the list of e's\n",
    "        v_nrm = norm(v)\n",
    "        e     = v/v_nrm\n",
    "        e_list.append(e)\n",
    "    return e_list"
   ]
  },
  {
   "cell_type": "markdown",
   "metadata": {},
   "source": [
    "We can now apply the functions we defined above to the list of vectors in the exercise:"
   ]
  },
  {
   "cell_type": "code",
   "execution_count": 2,
   "metadata": {},
   "outputs": [
    {
     "name": "stdout",
     "output_type": "stream",
     "text": [
      "⎡                        ⎛ 2       1⎞⎤\n",
      "⎢1, 2⋅√3⋅(x - 1/2), 6⋅√5⋅⎜x  - x + ─⎟⎥\n",
      "⎣                        ⎝         6⎠⎦\n"
     ]
    }
   ],
   "source": [
    "v_list = [1,x,x**2]\n",
    "e_list = GS(v_list)\n",
    "pprint(e_list)"
   ]
  }
 ],
 "metadata": {
  "kernelspec": {
   "display_name": "Python 3",
   "language": "python",
   "name": "python3"
  },
  "language_info": {
   "codemirror_mode": {
    "name": "ipython",
    "version": 3
   },
   "file_extension": ".py",
   "mimetype": "text/x-python",
   "name": "python",
   "nbconvert_exporter": "python",
   "pygments_lexer": "ipython3",
   "version": "3.8.5"
  }
 },
 "nbformat": 4,
 "nbformat_minor": 4
}
